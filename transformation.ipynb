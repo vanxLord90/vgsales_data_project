{
 "cells": [
  {
   "cell_type": "code",
   "execution_count": 2,
   "metadata": {},
   "outputs": [],
   "source": [
    "import pandas as pd\n",
    "import numpy as np\n"
   ]
  },
  {
   "cell_type": "code",
   "execution_count": 38,
   "metadata": {},
   "outputs": [
    {
     "name": "stdout",
     "output_type": "stream",
     "text": [
      "(16598, 11)\n",
      "(16291, 11)\n"
     ]
    }
   ],
   "source": [
    "''' Cleaning the vgsales.csv of any duplicates, and empty values'''\n",
    "vgsales = pd.read_csv('vgsales.csv')\n",
    "initial_shape = vgsales.shape\n",
    "print(initial_shape)\n",
    "vgsales_clean = vgsales.drop_duplicates()\n",
    "vgsales_clean.dropna(inplace=True)\n",
    "new_shape = vgsales_clean.shape\n",
    "print(new_shape)\n",
    "vgsales_clean.to_csv('cleaned_vgsales.csv', index=False)\n"
   ]
  },
  {
   "cell_type": "code",
   "execution_count": 84,
   "metadata": {},
   "outputs": [
    {
     "name": "stdout",
     "output_type": "stream",
     "text": [
      "      Platform  Total Global Sales  Best Year  Most Releases in Year\n",
      "0          3DO                0.10     1995.0                      2\n",
      "1          3DS              246.27     2011.0                    116\n",
      "2   Atari 2600               86.57     1981.0                     46\n",
      "3           DC               15.97     2000.0                     20\n",
      "4           DS              818.91     2008.0                    492\n",
      "5           GB              254.42     2000.0                     17\n",
      "6          GBA              305.62     2002.0                    198\n",
      "7           GC              197.14     2002.0                    152\n",
      "8          GEN               28.36     1994.0                     12\n",
      "9           GG                0.04     1992.0                      1\n",
      "10         N64              218.21     1999.0                    102\n",
      "11         NES              251.07     1986.0                     19\n",
      "12          NG                1.44     1994.0                      4\n",
      "13          PC              254.70     2011.0                    137\n",
      "14        PCFX                0.03     1996.0                      1\n",
      "15          PS              727.39     1998.0                    248\n",
      "16         PS2             1233.46     2002.0                    280\n",
      "17         PS3              949.35     2011.0                    216\n",
      "18         PS4              278.10     2015.0                    137\n",
      "19         PSP              291.71     2006.0                    190\n",
      "20         PSV               61.60     2015.0                    113\n",
      "21         SAT               33.59     1995.0                     52\n",
      "22         SCD                1.87     1994.0                      5\n",
      "23        SNES              200.05     1995.0                     54\n",
      "24        TG16                0.16     1995.0                      2\n",
      "25          WS                1.42     1999.0                      2\n",
      "26         Wii              909.81     2009.0                    325\n",
      "27        WiiU               81.86     2013.0                     42\n",
      "28        X360              969.60     2011.0                    206\n",
      "29          XB              252.09     2003.0                    189\n",
      "30        XOne              141.06     2015.0                     79\n"
     ]
    }
   ],
   "source": [
    "''' Calculate sales per console, games per console, '''\n",
    "vgcleansales = pd.read_csv('cleaned_vgsales.csv')\n",
    "vgcleansales.loc[vgcleansales[\"Platform\"]==\"2600\",\"Platform\"]=\"Atari 2600\"\n",
    "unique_consoles = vgcleansales[\"Platform\"].unique()\n",
    "# print(unique_consoles)\n",
    "\n",
    "vg_sales_by_platform = vgcleansales.groupby([\"Platform\"])[\"Global_Sales\"].sum()\n",
    "# print(vg_sales_by_platform)\n",
    "vg_sales_by_platform_by_name = vgcleansales.groupby(['Platform'])\n",
    "vg_sales_by_platform_by_name = vg_sales_by_platform_by_name['Name'].count()\n",
    "vg_sales_by_platform_by_year = vgcleansales.groupby(['Platform', 'Year']).size().reset_index(name='Release_Count')\n",
    "platform_year_counts = vg_sales_by_platform_by_year.groupby('Platform')['Release_Count'].idxmax()\n",
    "max_releases_per_platform = vg_sales_by_platform_by_year.loc[platform_year_counts].reset_index(drop=True)\n",
    "\n",
    "# print(max_releases_per_platform)\n",
    "combined_df = pd.merge(vg_sales_by_platform, max_releases_per_platform, on='Platform')\n",
    "# combined_df = pd.merge(combined_df, most_releases_per_platform, on='Platform')\n",
    "combined_df.rename(columns={'Global_Sales': 'Total Global Sales', 'Year': 'Best Year', 'Release_Count': 'Most Releases in Year'}, inplace=True)\n",
    "print(combined_df)\n",
    "combined_df.to_csv('Derived CSV')\n",
    "\n"
   ]
  }
 ],
 "metadata": {
  "kernelspec": {
   "display_name": "Python 3",
   "language": "python",
   "name": "python3"
  },
  "language_info": {
   "codemirror_mode": {
    "name": "ipython",
    "version": 3
   },
   "file_extension": ".py",
   "mimetype": "text/x-python",
   "name": "python",
   "nbconvert_exporter": "python",
   "pygments_lexer": "ipython3",
   "version": "3.10.12"
  }
 },
 "nbformat": 4,
 "nbformat_minor": 2
}
